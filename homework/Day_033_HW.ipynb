{
 "cells": [
  {
   "cell_type": "code",
   "execution_count": 8,
   "id": "70018f34",
   "metadata": {},
   "outputs": [
    {
     "name": "stdout",
     "output_type": "stream",
     "text": [
      "Q1：所以根據這個情況條件下。你會預測照片中的長髮是男性或女性？ (直覺回答)\n",
      "Answer:女性\n"
     ]
    }
   ],
   "source": [
    "print('Q1：所以根據這個情況條件下。你會預測照片中的長髮是男性或女性？ (直覺回答)')\n",
    "print('Answer:女性')"
   ]
  },
  {
   "cell_type": "code",
   "execution_count": 18,
   "id": "30eebe94",
   "metadata": {},
   "outputs": [
    {
     "name": "stdout",
     "output_type": "stream",
     "text": [
      "Q2：以下圖資料，計算當你看到長髮時，是女生的機率？\n",
      "Answer:  35.71 %\n"
     ]
    }
   ],
   "source": [
    "print('Q2：以下圖資料，計算當你看到長髮時，是女生的機率？')\n",
    "# 女生且長髮的機率\n",
    "a = 5/100\n",
    "# 長髮的機率\n",
    "b = (5+9)/100\n",
    "# P(女生|長髮)\n",
    "c = format(round(a/b * 100,2))\n",
    "print('Answer: ',c,'%')"
   ]
  },
  {
   "cell_type": "code",
   "execution_count": 19,
   "id": "d4a51271",
   "metadata": {},
   "outputs": [
    {
     "name": "stdout",
     "output_type": "stream",
     "text": [
      "Q3:你的決策因為男生女生比例不同(先驗分配不同)，和投影片的結果相比，決策有沒有改變?\n",
      "Answer: 會換猜男生\n"
     ]
    }
   ],
   "source": [
    "print('Q3:你的決策因為男生女生比例不同(先驗分配不同)，和投影片的結果相比，決策有沒有改變?')\n",
    "print('Answer: 會換猜男生')"
   ]
  }
 ],
 "metadata": {
  "kernelspec": {
   "display_name": "Python 3",
   "language": "python",
   "name": "python3"
  },
  "language_info": {
   "codemirror_mode": {
    "name": "ipython",
    "version": 3
   },
   "file_extension": ".py",
   "mimetype": "text/x-python",
   "name": "python",
   "nbconvert_exporter": "python",
   "pygments_lexer": "ipython3",
   "version": "3.8.5"
  }
 },
 "nbformat": 4,
 "nbformat_minor": 5
}
