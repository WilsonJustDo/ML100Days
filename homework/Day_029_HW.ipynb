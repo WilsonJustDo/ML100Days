{
 "cells": [
  {
   "cell_type": "code",
   "execution_count": 35,
   "metadata": {},
   "outputs": [],
   "source": [
    "# library\n",
    "import numpy as np\n",
    "import pandas as pd\n",
    "from scipy import stats"
   ]
  },
  {
   "cell_type": "code",
   "execution_count": 11,
   "metadata": {},
   "outputs": [],
   "source": [
    "boys = [164, 175, 183, 173, \n",
    "        176, 159, 165, 165, \n",
    "        169, 151, 156, 163, \n",
    "        169, 144, 170, 177, \n",
    "        165, 160, 164, 171]\n",
    "\n",
    "girls = [169, 170, 162, 154,\n",
    "        183, 173, 169, 167,\n",
    "        170, 185, 162, 175,\n",
    "        168, 151, 181, 170,\n",
    "        182, 156, 159, 160]"
   ]
  },
  {
   "cell_type": "code",
   "execution_count": 27,
   "metadata": {},
   "outputs": [
    {
     "data": {
      "text/plain": [
       "165"
      ]
     },
     "execution_count": 27,
     "metadata": {},
     "output_type": "execute_result"
    }
   ],
   "source": [
    "# 測試\n",
    "counts = np.bincount(boys)\n",
    "counts\n",
    "np.argmax(counts)"
   ]
  },
  {
   "cell_type": "code",
   "execution_count": 30,
   "metadata": {},
   "outputs": [
    {
     "data": {
      "text/plain": [
       "-0.5104301688842507"
      ]
     },
     "execution_count": 30,
     "metadata": {},
     "output_type": "execute_result"
    }
   ],
   "source": [
    "# 測試\n",
    "b = pd.Series(boys)\n",
    "b.skew()"
   ]
  },
  {
   "cell_type": "code",
   "execution_count": 36,
   "metadata": {},
   "outputs": [
    {
     "name": "stdout",
     "output_type": "stream",
     "text": [
      "平均數\n",
      "boys:  165.95\n",
      "girls:  168.3\n",
      "眾數\n",
      "boys:  165\n",
      "boys:  170\n",
      "中位數\n",
      "boys:  165.0\n",
      "girls:  169.0\n",
      "變異數\n",
      "boys:  84.8921052631579\n",
      "girls:  95.37894736842104\n",
      "全距\n",
      "boys:  39\n",
      "girls:  34\n",
      "偏度\n",
      "boys:  -0.4713212731737694\n",
      "girls:  0.059853211293650746\n",
      "峰度\n",
      "boys:  0.19395882957876243\n",
      "girls:  -0.8203607083948947\n"
     ]
    }
   ],
   "source": [
    "# Q1:試著用今天所教的內容，如何描述這兩組資料的樣態?\n",
    "# 暗示:  分別計算男生和女生的統計量\n",
    "print('平均數')\n",
    "print(\"boys: \",np.mean(boys))\n",
    "print(\"girls: \",np.mean(girls))\n",
    "\n",
    "print('眾數') # 在numpy中没有直接的方法\n",
    "boys_counts = np.bincount(boys) # np.bincount()做出0-183個桶子，把對應的數值依序放入，例如183有放入一個值\n",
    "girls_counts = np.bincount(girls)\n",
    "print(\"boys: \", np.argmax(boys_counts)) # np.argmax()返回最大值的索引號\n",
    "print(\"boys: \", np.argmax(girls_counts))\n",
    "#print(\"boys: \", stats.mode(boys)[0][0])\n",
    "#print(\"girls: \", stats.mode(girls)[0][0])\n",
    "\n",
    "print('中位數')\n",
    "print(\"boys: \",np.median(boys))\n",
    "print(\"girls: \",np.median(girls))\n",
    "\n",
    "print('變異數')\n",
    "print(\"boys: \", np.var(boys, ddof=1))\n",
    "print(\"girls: \",np.var(girls, ddof=1))\n",
    "\n",
    "\n",
    "print('全距')\n",
    "def RangeV(x): # def 定義函式\n",
    "    return max(x)-min(x)\n",
    "print(\"boys: \", RangeV(boys))\n",
    "print(\"girls: \",RangeV(girls))\n",
    "\n",
    "print('偏度')\n",
    "print(\"boys: \", stats.skew(boys)) # 與用 pd 計算結果不同\n",
    "print(\"girls: \",stats.skew(girls))\n",
    "\n",
    "print('峰度')\n",
    "print(\"boys: \", stats.kurtosis(boys))\n",
    "print(\"girls: \", stats.kurtosis(girls))"
   ]
  },
  {
   "cell_type": "code",
   "execution_count": 38,
   "metadata": {},
   "outputs": [
    {
     "name": "stdout",
     "output_type": "stream",
     "text": [
      "女生\n"
     ]
    }
   ],
   "source": [
    "#Q2: 請問男生和女生在平均身高上誰比較高? \n",
    "print('女生')"
   ]
  },
  {
   "cell_type": "code",
   "execution_count": 39,
   "metadata": {},
   "outputs": [
    {
     "name": "stdout",
     "output_type": "stream",
     "text": [
      "不一致，因為是抽樣調查，樣本跟母體存在差異\n"
     ]
    }
   ],
   "source": [
    "#Q3:請問第二題的答案和日常生活中觀察的一致嗎? 如果不一致，你覺得原因可能為何? \n",
    "print('不一致，因為是抽樣調查，樣本跟母體存在差異')"
   ]
  }
 ],
 "metadata": {
  "kernelspec": {
   "display_name": "Python 3",
   "language": "python",
   "name": "python3"
  },
  "language_info": {
   "codemirror_mode": {
    "name": "ipython",
    "version": 3
   },
   "file_extension": ".py",
   "mimetype": "text/x-python",
   "name": "python",
   "nbconvert_exporter": "python",
   "pygments_lexer": "ipython3",
   "version": "3.8.5"
  }
 },
 "nbformat": 4,
 "nbformat_minor": 4
}
