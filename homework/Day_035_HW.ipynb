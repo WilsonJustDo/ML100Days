{
 "cells": [
  {
   "cell_type": "code",
   "execution_count": 12,
   "id": "c7969094",
   "metadata": {},
   "outputs": [
    {
     "name": "stdout",
     "output_type": "stream",
     "text": [
      "Q1: 假設 x̄>2，拒絕 𝐻0，𝛼 會變大/變小? 𝛽 會變大/變小?\n",
      "\n",
      "原本x̄>1會拒絕𝐻0(eg.沒有陽性反應)，現在變為x̄>2，更容易拒絕𝐻0(=更不容易測到陽性反應)，故偽陽性機率變小，但偽陰性機率變大\n",
      "\n",
      "𝛼 會變小，𝛽 會變大\n"
     ]
    }
   ],
   "source": [
    "print('Q1: 假設 x̄>2，拒絕 𝐻0，𝛼 會變大/變小? 𝛽 會變大/變小?')\n",
    "print(\"\")\n",
    "print('原本x̄>1會拒絕𝐻0(eg.沒有陽性反應)，現在變為x̄>2，更容易拒絕𝐻0(=更不容易測到陽性反應)，故偽陽性機率變小，但偽陰性機率變大')\n",
    "print(\"\")\n",
    "print('𝛼 會變小，𝛽 會變大')"
   ]
  },
  {
   "cell_type": "code",
   "execution_count": 15,
   "id": "594c28db",
   "metadata": {},
   "outputs": [
    {
     "name": "stdout",
     "output_type": "stream",
     "text": [
      "Q2: 假設 x̄>0.2，拒絕 𝐻0，𝛼 會變大/變小? 𝛽 會變大/變小?\n",
      "\n",
      "原本x̄>1會拒絕𝐻0(eg.沒有陽性反應)，現在變為x̄>0.2，更不容易拒絕𝐻0(=容易測到陽性反應)，故偽陽性機率變大，但偽陰性機率變小 \n",
      "\n",
      "𝛼 會變大，𝛽 會變小\n"
     ]
    }
   ],
   "source": [
    "print('Q2: 假設 x̄>0.2，拒絕 𝐻0，𝛼 會變大/變小? 𝛽 會變大/變小?')\n",
    "print(\"\")\n",
    "print('原本x̄>1會拒絕𝐻0(eg.沒有陽性反應)，現在變為x̄>0.2，更不容易拒絕𝐻0(=容易測到陽性反應)，故偽陽性機率變大，但偽陰性機率變小 ')\n",
    "print(\"\")\n",
    "print('𝛼 會變大，𝛽 會變小')"
   ]
  },
  {
   "cell_type": "code",
   "execution_count": 7,
   "id": "274f5d03",
   "metadata": {},
   "outputs": [
    {
     "name": "stdout",
     "output_type": "stream",
     "text": [
      "Q3: 𝛼 和 𝛽 有關聯性?\n",
      " \n",
      "彼此是權衡的概念，alpha會變大，beta就會變小；alpha會變小，beta就會變大\n"
     ]
    }
   ],
   "source": [
    "print('Q3: 𝛼 和 𝛽 有關聯性?')\n",
    "print(' ')\n",
    "print('彼此是權衡的概念，alpha會變大，beta就會變小；alpha會變小，beta就會變大')"
   ]
  }
 ],
 "metadata": {
  "kernelspec": {
   "display_name": "Python 3",
   "language": "python",
   "name": "python3"
  },
  "language_info": {
   "codemirror_mode": {
    "name": "ipython",
    "version": 3
   },
   "file_extension": ".py",
   "mimetype": "text/x-python",
   "name": "python",
   "nbconvert_exporter": "python",
   "pygments_lexer": "ipython3",
   "version": "3.8.5"
  }
 },
 "nbformat": 4,
 "nbformat_minor": 5
}
