{
 "cells": [
  {
   "cell_type": "code",
   "execution_count": 2,
   "id": "16b12f03",
   "metadata": {},
   "outputs": [],
   "source": [
    "# library\n",
    "import matplotlib.pyplot as plt\n",
    "import numpy as np\n",
    "import pandas as pd\n",
    "from scipy import stats\n",
    "import math\n",
    "import statistics"
   ]
  },
  {
   "cell_type": "code",
   "execution_count": 5,
   "id": "cb29d6de",
   "metadata": {},
   "outputs": [
    {
     "name": "stdout",
     "output_type": "stream",
     "text": [
      "P(Z<1)= 0.8413447460685429\n"
     ]
    }
   ],
   "source": [
    "# Q1:計算標準常態分配，小於1的機率有多大?\n",
    "# 常態分配的計算\n",
    "# 計算標準常態分配記Ｘ　介於 1,-1的比例\n",
    "\n",
    "x =1 # 分佈在1的概率密度函數\n",
    "loc =0 # 常態分配期望 =0\n",
    "scale =1 # 常態分配標準差 =1\n",
    "\n",
    "b=  stats.norm.cdf(1,loc, scale) #累計分佈函數(累積到1的機率)\n",
    "print(\"P(Z<1)=\",b)"
   ]
  },
  {
   "cell_type": "code",
   "execution_count": 4,
   "id": "c69d2998",
   "metadata": {},
   "outputs": [
    {
     "name": "stdout",
     "output_type": "stream",
     "text": [
      "P(Z>1 or Z<-1)= 0.31731050786291415\n"
     ]
    }
   ],
   "source": [
    "# Q2:計算標準常態分配，大於1，小於 -1 的機率有多大?\n",
    "# 先算 p(<-1X<1)，再算  P(X>1 or X<-1)\n",
    "loc=0\n",
    "scale=1\n",
    "b=  stats.norm.cdf(1,loc, scale) #累計分佈函數(累積到到1的機率)\n",
    "a=  stats.norm.cdf(-1,loc, scale) #累計分佈函數(累積到-1的機率)\n",
    "print(\"P(Z>1 or Z<-1)=\",1-(b-a)) #b-a=>-1到1的機率；1-(b-a)=>(X>1 or X<-1)機率"
   ]
  },
  {
   "cell_type": "code",
   "execution_count": 6,
   "id": "05404a0e",
   "metadata": {},
   "outputs": [
    {
     "name": "stdout",
     "output_type": "stream",
     "text": [
      "P(X<6)= 0.9772498680518208\n"
     ]
    }
   ],
   "source": [
    "# Q3:X~N(2,4),x 服從常態分配，平均數為2,變異數為 4，計算 X小於 6 的機率有多大?\n",
    "loc=2\n",
    "scale=2 #(4要開根號)\n",
    "b=  stats.norm.cdf(6,loc, scale)\n",
    "print(\"P(X<6)=\",b)"
   ]
  }
 ],
 "metadata": {
  "kernelspec": {
   "display_name": "Python 3",
   "language": "python",
   "name": "python3"
  },
  "language_info": {
   "codemirror_mode": {
    "name": "ipython",
    "version": 3
   },
   "file_extension": ".py",
   "mimetype": "text/x-python",
   "name": "python",
   "nbconvert_exporter": "python",
   "pygments_lexer": "ipython3",
   "version": "3.8.5"
  }
 },
 "nbformat": 4,
 "nbformat_minor": 5
}
