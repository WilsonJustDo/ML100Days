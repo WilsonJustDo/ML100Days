{
 "cells": [
  {
   "cell_type": "code",
   "execution_count": 32,
   "metadata": {},
   "outputs": [],
   "source": [
    "import numpy as np\n",
    "english_score = np.array([55,89,76,65,48,70])\n",
    "math_score = np.array([60,85,60,68,np.nan,60])\n",
    "chinese_score = np.array([65,90,82,72,66,77])"
   ]
  },
  {
   "cell_type": "code",
   "execution_count": 45,
   "metadata": {},
   "outputs": [
    {
     "name": "stdout",
     "output_type": "stream",
     "text": [
      "英文成績平均: 67.16666666666667 數學成績平均: 66.6 國文成績平均: 75.33333333333333\n"
     ]
    }
   ],
   "source": [
    "#1. 請計算各科成績平均、最大值、最小值、標準差，其中數學缺一筆資料可忽略?\n",
    "mean_english = np.nanmean(english_score)\n",
    "mean_math = np.nanmean(math_score)\n",
    "mean_chinese = np.nanmean(chinese_score)\n",
    "print('英文成績平均:',mean_english,\n",
    "     '數學成績平均:',mean_math,\n",
    "     '國文成績平均:',mean_chinese)"
   ]
  },
  {
   "cell_type": "code",
   "execution_count": 48,
   "metadata": {},
   "outputs": [
    {
     "name": "stdout",
     "output_type": "stream",
     "text": [
      "英文成績最大值: 89 數學成績最大值: 85.0 國文成績最大值: 90\n"
     ]
    }
   ],
   "source": [
    "max_english = np.nanmax(english_score)\n",
    "max_math = np.nanmax(math_score)\n",
    "max_chinese = np.nanmax(chinese_score)\n",
    "print('英文成績最大值:',max_english,\n",
    "     '數學成績最大值:',max_math,\n",
    "     '國文成績最大值:',max_chinese)"
   ]
  },
  {
   "cell_type": "code",
   "execution_count": 49,
   "metadata": {},
   "outputs": [
    {
     "name": "stdout",
     "output_type": "stream",
     "text": [
      "英文成績最小值: 48 數學成績最小值: 60.0 國文成績最小值: 65\n"
     ]
    }
   ],
   "source": [
    "min_english = np.nanmin(english_score)\n",
    "min_math = np.nanmin(math_score)\n",
    "min_chinese = np.nanmin(chinese_score)\n",
    "print('英文成績最小值:',min_english,\n",
    "     '數學成績最小值:',min_math,\n",
    "     '國文成績最小值:',min_chinese)"
   ]
  },
  {
   "cell_type": "code",
   "execution_count": 51,
   "metadata": {},
   "outputs": [
    {
     "name": "stdout",
     "output_type": "stream",
     "text": [
      "英文成績標準差: 13.433995020924426 數學成績標準差: 9.707728879609279 國文成績標準差: 8.825468196582484\n"
     ]
    }
   ],
   "source": [
    "std_english = np.nanstd(english_score)\n",
    "std_math = np.nanstd(math_score)\n",
    "std_chinese = np.nanstd(chinese_score)\n",
    "print('英文成績標準差:',std_english,\n",
    "     '數學成績標準差:',std_math,\n",
    "     '國文成績標準差:',std_chinese)"
   ]
  },
  {
   "cell_type": "code",
   "execution_count": 60,
   "metadata": {},
   "outputs": [
    {
     "name": "stdout",
     "output_type": "stream",
     "text": [
      "數學新平均: 64.66666666666667 數學新最大值: 85.0 數學新最小值: 55.0 數學新標準差: 9.860132971832694\n"
     ]
    }
   ],
   "source": [
    "#2. 第五位同學補考數學後成績為55，請計算補考後數學成績平均、最大值、最小值、標準差?\n",
    "math_score[4] = 55\n",
    "mean_math = np.nanmean(math_score)\n",
    "max_math = np.nanmax(math_score)\n",
    "min_math = np.nanmin(math_score)\n",
    "std_math = np.nanstd(math_score)\n",
    "print('數學新平均:',mean_math,\n",
    "     '數學新最大值:',max_math,\n",
    "     '數學新最小值:',min_math,\n",
    "     '數學新標準差:',std_math)"
   ]
  },
  {
   "cell_type": "code",
   "execution_count": 70,
   "metadata": {},
   "outputs": [
    {
     "name": "stdout",
     "output_type": "stream",
     "text": [
      "國文與英文相關係數最高\n"
     ]
    }
   ],
   "source": [
    "#3. 用補考後資料找出與國文成績相關係數最高的學科?\n",
    "ChineseAndEnglish = np.corrcoef([chinese_score, english_score])\n",
    "a = ChineseAndEnglish[0,1]\n",
    "ChineseAndMath = np.corrcoef([chinese_score, math_score])\n",
    "b = ChineseAndMath[0,1]\n",
    "if a > b:\n",
    "    print('國文與英文相關係數最高')\n",
    "else:\n",
    "    print('國文與數學相關係數最高')"
   ]
  }
 ],
 "metadata": {
  "kernelspec": {
   "display_name": "Python 3",
   "language": "python",
   "name": "python3"
  },
  "language_info": {
   "codemirror_mode": {
    "name": "ipython",
    "version": 3
   },
   "file_extension": ".py",
   "mimetype": "text/x-python",
   "name": "python",
   "nbconvert_exporter": "python",
   "pygments_lexer": "ipython3",
   "version": "3.8.5"
  }
 },
 "nbformat": 4,
 "nbformat_minor": 4
}
