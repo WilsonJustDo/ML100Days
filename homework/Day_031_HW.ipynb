{
 "cells": [
  {
   "cell_type": "code",
   "execution_count": 1,
   "id": "4b710283",
   "metadata": {},
   "outputs": [],
   "source": [
    "import matplotlib.pyplot as plt\n",
    "import numpy as np\n",
    "import pandas as pd\n",
    "from scipy import stats\n",
    "import math\n",
    "import statistics"
   ]
  },
  {
   "cell_type": "code",
   "execution_count": 3,
   "id": "5888a634",
   "metadata": {},
   "outputs": [],
   "source": [
    "# Q1: 大樂透的頭獎，你必須從49個挑選出 6 個號碼，\n",
    "# 且這六個號碼與頭獎的六個號碼一致，頭獎的機率是屬於哪一種分配?"
   ]
  },
  {
   "cell_type": "code",
   "execution_count": 5,
   "id": "dd815ada",
   "metadata": {},
   "outputs": [
    {
     "data": {
      "text/plain": [
       "'\\n可以想像成，大樂透中有49個號碼，6個是屬於開獎抽出的數字那一群，43個是不屬於開獎抽出的數字那一群，  \\n那你挑的六組號碼，有多少個是落在開獎抽出的數字那一群?\\n所以是屬於 超幾何分配.\\n'"
      ]
     },
     "execution_count": 5,
     "metadata": {},
     "output_type": "execute_result"
    }
   ],
   "source": [
    "'''\n",
    "可以想像成，大樂透中有49個號碼，6個是屬於開獎抽出的數字那一群，43個是不屬於開獎抽出的數字那一群，  \n",
    "那你挑的六組號碼，有多少個是落在開獎抽出的數字那一群?\n",
    "所以是屬於 超幾何分配.\n",
    "'''"
   ]
  },
  {
   "cell_type": "code",
   "execution_count": null,
   "id": "41264b90",
   "metadata": {},
   "outputs": [],
   "source": [
    "# Q2: 運用範例的 python 程式碼，計算大樂透的中頭獎機率?"
   ]
  },
  {
   "cell_type": "code",
   "execution_count": 6,
   "id": "8421be00",
   "metadata": {},
   "outputs": [
    {
     "name": "stdout",
     "output_type": "stream",
     "text": [
      "中頭獎的機率為== 7.151123842018523e-08\n"
     ]
    }
   ],
   "source": [
    "'''\n",
    "X: HG(49,6,6)\n",
    "p(X=6) 的機率就是中頭獎的機率\n",
    "'''\n",
    "probs = stats.hypergeom.pmf(6,49,6,6)\n",
    "print(\"中頭獎的機率為==\",probs)"
   ]
  },
  {
   "cell_type": "code",
   "execution_count": null,
   "id": "a214fe00",
   "metadata": {},
   "outputs": [],
   "source": [
    "# Q3: 你覺得電腦簽注的中獎機率，和人腦簽注相比，哪一個機率高?"
   ]
  },
  {
   "cell_type": "code",
   "execution_count": null,
   "id": "1d12c69d",
   "metadata": {},
   "outputs": [],
   "source": [
    "'''\n",
    "以機率的角度來看，兩者一樣高\n",
    "'''"
   ]
  }
 ],
 "metadata": {
  "kernelspec": {
   "display_name": "Python 3",
   "language": "python",
   "name": "python3"
  },
  "language_info": {
   "codemirror_mode": {
    "name": "ipython",
    "version": 3
   },
   "file_extension": ".py",
   "mimetype": "text/x-python",
   "name": "python",
   "nbconvert_exporter": "python",
   "pygments_lexer": "ipython3",
   "version": "3.8.5"
  }
 },
 "nbformat": 4,
 "nbformat_minor": 5
}
