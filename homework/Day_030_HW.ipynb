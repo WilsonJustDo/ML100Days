{
 "cells": [
  {
   "cell_type": "code",
   "execution_count": null,
   "id": "fdb7f208",
   "metadata": {},
   "outputs": [],
   "source": [
    "# 丟一個銅板，丟了100次，出現正面 50 次的機率有多大。\n",
    "# 二項分配和"
   ]
  },
  {
   "cell_type": "code",
   "execution_count": 3,
   "id": "15eaa61b",
   "metadata": {},
   "outputs": [],
   "source": [
    "# library\n",
    "import matplotlib.pyplot as plt\n",
    "import numpy as np\n",
    "import pandas as pd\n",
    "from scipy import stats\n",
    "import math\n",
    "import statistics"
   ]
  },
  {
   "cell_type": "code",
   "execution_count": 14,
   "id": "ea0a4180",
   "metadata": {},
   "outputs": [],
   "source": [
    "# 這是 bermoulli分配\n",
    "x = 50 #出現50次正面\n",
    "p = 0.5 # 成功概率\n",
    "n = 100 # 試驗次數"
   ]
  },
  {
   "cell_type": "code",
   "execution_count": 17,
   "id": "f63ac351",
   "metadata": {},
   "outputs": [
    {
     "name": "stdout",
     "output_type": "stream",
     "text": [
      "0.07958923738717888\n"
     ]
    }
   ],
   "source": [
    "# 2.計算二項分佈的概率質量分佈 (probability mass function)\n",
    "# 之所以稱為質量，是因為離散的點\n",
    "# P(X=x) --> 是機率\n",
    "probs = stats.binom.pmf(n, p, x)\n",
    "print(probs)"
   ]
  }
 ],
 "metadata": {
  "kernelspec": {
   "display_name": "Python 3",
   "language": "python",
   "name": "python3"
  },
  "language_info": {
   "codemirror_mode": {
    "name": "ipython",
    "version": 3
   },
   "file_extension": ".py",
   "mimetype": "text/x-python",
   "name": "python",
   "nbconvert_exporter": "python",
   "pygments_lexer": "ipython3",
   "version": "3.8.5"
  }
 },
 "nbformat": 4,
 "nbformat_minor": 5
}
