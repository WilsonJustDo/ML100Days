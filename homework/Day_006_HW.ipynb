{
 "cells": [
  {
   "cell_type": "code",
   "execution_count": 36,
   "metadata": {},
   "outputs": [],
   "source": [
    "import numpy as np\n",
    "\n",
    "#. 將下兩列array存成npz檔\n",
    "a = array1 = np.array(range(30))\n",
    "b = array2 = np.array([2,3,5])\n",
    "np.savetxt('array1.gz', [array1], delimiter=',')\n",
    "np.savetxt('array2.gz', [array2], delimiter=',')"
   ]
  },
  {
   "cell_type": "code",
   "execution_count": 37,
   "metadata": {},
   "outputs": [
    {
     "data": {
      "text/plain": [
       "array([ 0.,  1.,  2.,  3.,  4.,  5.,  6.,  7.,  8.,  9., 10., 11., 12.,\n",
       "       13., 14., 15., 16., 17., 18., 19., 20., 21., 22., 23., 24., 25.,\n",
       "       26., 27., 28., 29.])"
      ]
     },
     "execution_count": 37,
     "metadata": {},
     "output_type": "execute_result"
    }
   ],
   "source": [
    "#2. \"讀取剛剛的npz檔\"，加入下列array一起存成新的npz檔\n",
    "np.genfromtxt('array1.gz', delimiter=\",\")"
   ]
  },
  {
   "cell_type": "code",
   "execution_count": 38,
   "metadata": {},
   "outputs": [
    {
     "data": {
      "text/plain": [
       "array([2., 3., 5.])"
      ]
     },
     "execution_count": 38,
     "metadata": {},
     "output_type": "execute_result"
    }
   ],
   "source": [
    "np.genfromtxt('array2.gz', delimiter=\",\")"
   ]
  },
  {
   "cell_type": "code",
   "execution_count": 39,
   "metadata": {},
   "outputs": [],
   "source": [
    "#2. 讀取剛剛的npz檔，\"加入下列array一起存成新的npz檔\"\n",
    "c = multi_array = np.load('multi_array.npz')\n",
    "d = names_txt = np.genfromtxt('names.txt') #為什麼一樣的np.txt('names.txt')會遇到error?\n",
    "e = one_array_npy = np.load('one_array.npy')\n",
    "f = test_csv = np.genfromtxt('test.csv')\n",
    "g = test_gz = np.genfromtxt('test.gz') #np.load(test.gz)會遇到error?\n",
    "h = test_npy = np.load('test.npy')\n",
    "i = test_out = np.genfromtxt('test.out') #np.load(test.out)會遇到error?\n",
    "j = transform_txt = np.genfromtxt('transform.txt') #np.load(transform.txt)會遇到error?\n",
    "\n",
    "with open('SaveFile.npz', 'wb') as k:\n",
    "    np.savez(k, array1=a, array2=b, array3=c, array4=d, array5=e, array6=f, array7=g, array8=h, array9=i, array10=j)"
   ]
  }
 ],
 "metadata": {
  "kernelspec": {
   "display_name": "Python 3",
   "language": "python",
   "name": "python3"
  },
  "language_info": {
   "codemirror_mode": {
    "name": "ipython",
    "version": 3
   },
   "file_extension": ".py",
   "mimetype": "text/x-python",
   "name": "python",
   "nbconvert_exporter": "python",
   "pygments_lexer": "ipython3",
   "version": "3.8.5"
  }
 },
 "nbformat": 4,
 "nbformat_minor": 4
}
